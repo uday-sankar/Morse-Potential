{
 "cells": [
  {
   "cell_type": "code",
   "execution_count": 4,
   "metadata": {},
   "outputs": [],
   "source": [
    "import numpy as np\n",
    "import matplotlib.pyplot as plt\n",
    "import Support_functions_Morse as EF"
   ]
  },
  {
   "cell_type": "code",
   "execution_count": 5,
   "metadata": {},
   "outputs": [],
   "source": [
    "%matplotlib qt"
   ]
  },
  {
   "cell_type": "code",
   "execution_count": 6,
   "metadata": {},
   "outputs": [],
   "source": [
    "def Morse_V(r):\n",
    "\tV=D_e*(1-2.718**(-a*(r-r_e)))**2\n",
    "\treturn V\n",
    "m,h = 1,1\n",
    "Xmin = 0.5\n",
    "Xmax = 6\n",
    "D_e = 10\n",
    "a = 0.8\n",
    "r_e = 1"
   ]
  },
  {
   "cell_type": "code",
   "execution_count": 7,
   "metadata": {},
   "outputs": [],
   "source": [
    "R = np.linspace(Xmin, Xmax, 10**3)\n",
    "for p in range(len(R)):\n",
    "\tif Morse_V(R[p]) < D_e:\n",
    "\t\tXmin = R[p] - 1\n",
    "\t\tPos = p\n",
    "\t\tbreak\n",
    "R=np.linspace(Xmin, Xmax, 10**4)\n",
    "EF.Constant_feeder(h, m, D_e, Morse_V)"
   ]
  },
  {
   "cell_type": "code",
   "execution_count": 8,
   "metadata": {},
   "outputs": [
    {
     "name": "stdout",
     "output_type": "stream",
     "text": [
      "||||\n",
      "||||\n",
      "||||\n",
      "||||\n",
      "||||\n",
      "||||\n",
      "||||\n",
      "||||\n",
      "||||\n",
      "||||\n"
     ]
    }
   ],
   "source": [
    "Eigen_E=EF.Eigen_Range_finder(R, 0, D_e*.9, 10, 0.1)"
   ]
  },
  {
   "cell_type": "code",
   "execution_count": 9,
   "metadata": {},
   "outputs": [],
   "source": [
    "from matplotlib import style\n",
    "style.use('seaborn')"
   ]
  },
  {
   "cell_type": "code",
   "execution_count": 10,
   "metadata": {},
   "outputs": [
    {
     "name": "stdout",
     "output_type": "stream",
     "text": [
      "Plottings for [1.70867328 4.64610048 6.9436512  8.60622761]\n"
     ]
    },
    {
     "data": {
      "text/plain": [
       "Text(0, 0.5, '$\\\\Psi$ / E(in J)')"
      ]
     },
     "execution_count": 10,
     "metadata": {},
     "output_type": "execute_result"
    }
   ],
   "source": [
    "fig=plt.figure(figsize=(10,8))\n",
    "ax=plt.axes(ylim=(0, Eigen_E[-1]*1.1))\n",
    "R=np.linspace(Xmin, Xmax, 10**4)\n",
    "EF.Plot_Eq(R, Eigen_E, ax)\n",
    "ax.plot(R,Morse_V(R),color='black')\n",
    "plt.figtext(.5,.9,'Solutions of Quantum Morse Potential', fontsize=22, ha='center')\n",
    "plt.xticks(fontsize=14)\n",
    "plt.yticks(fontsize=14)\n",
    "plt.xlabel(\"r(in meter)\",fontsize=14)\n",
    "plt.ylabel(r\"$\\Psi$ / E(in J)\",fontsize=14)"
   ]
  },
  {
   "cell_type": "code",
   "execution_count": 11,
   "metadata": {},
   "outputs": [
    {
     "data": {
      "text/plain": [
       "Text(5, 8.58, '$\\\\Psi_3$')"
      ]
     },
     "execution_count": 11,
     "metadata": {},
     "output_type": "execute_result"
    }
   ],
   "source": [
    "ax.text(1.34,.34,r'$V=10(1-e^{-0.8(r-1)})$',fontsize=15,color='black')\n",
    "ax.text(5,1.73,r'$\\Psi_0$',fontsize=15,color='b')\n",
    "ax.text(5,4.7,r'$\\Psi_1$',fontsize=15,color='g')\n",
    "ax.text(5,7,r'$\\Psi_2$',fontsize=15,color='r')\n",
    "ax.text(5,8.58,r'$\\Psi_3$',fontsize=15,color='violet')"
   ]
  },
  {
   "cell_type": "code",
   "execution_count": 12,
   "metadata": {},
   "outputs": [],
   "source": [
    "plt.savefig(\"Neat_solution_Morse(E-psi).png\",dpi=650)"
   ]
  },
  {
   "cell_type": "code",
   "execution_count": 13,
   "metadata": {},
   "outputs": [],
   "source": [
    "BP=1\n",
    "def Explotion_fac(X,E_range):\n",
    "    Sol=EF.run_mult(X,E_range)\n",
    "    E_range=np.copy(E_range)\n",
    "    V_x=Morse_V(X)#V of x{V(x)}\n",
    "    min_V=min(V_x)\n",
    "    active_range=np.where(V_x<=max(E_range))\n",
    "    ind_lw=active_range[0][0]\n",
    "    ind_up=active_range[0][-1]\n",
    "    Explo_Farray=[]\n",
    "    for s in Sol:\n",
    "        y=s[1]\n",
    "        Expec_max=max(y[ind_lw:ind_up])#maximum in the expected region\n",
    "        Expec_min=abs(min(y[ind_lw:ind_up]))\n",
    "        if Expec_max<Expec_min:\n",
    "            Expec_max=Expec_min\n",
    "        Explo_Farray.append(abs(y[-1]/Expec_max))\n",
    "    return Explo_Farray"
   ]
  },
  {
   "cell_type": "code",
   "execution_count": 14,
   "metadata": {},
   "outputs": [],
   "source": [
    "R=np.linspace(Xmin, Xmax, 10**3)\n",
    "E_1=np.linspace(0,1.6,100)\n",
    "E_2=np.linspace(1.6,1.8,500)\n",
    "E_3=np.linspace(1.8,4.58,200)\n",
    "E_4=np.linspace(4.58,4.7,200)\n",
    "E_5=np.linspace(4.7,6.8,200)\n",
    "E_6=np.linspace(6.8,7,200)\n",
    "E_7=np.linspace(7,8.5,200)\n",
    "E_8=np.linspace(8.5,8.9,400)\n",
    "E_array= np.concatenate((E_1,E_2,E_3,E_4,E_5,E_6,E_7,E_8))"
   ]
  },
  {
   "cell_type": "code",
   "execution_count": 15,
   "metadata": {},
   "outputs": [],
   "source": [
    "Ex_A=Explotion_fac(R,E_array)"
   ]
  },
  {
   "cell_type": "code",
   "execution_count": 24,
   "metadata": {},
   "outputs": [
    {
     "data": {
      "text/plain": [
       "<matplotlib.legend.Legend at 0x7f7bc06c42b0>"
      ]
     },
     "execution_count": 24,
     "metadata": {},
     "output_type": "execute_result"
    }
   ],
   "source": [
    "fig=plt.figure(figsize=(10,8))\n",
    "ax=plt.axes()\n",
    "plt.figtext(.5,.9,'Explosion-Factor vs Energy for Morse Potential', fontsize=22, ha='center')\n",
    "plt.xticks(fontsize=14)\n",
    "plt.yticks(fontsize=14)\n",
    "plt.xlabel(\"E(in J)\",fontsize=14)\n",
    "plt.ylabel(\"Explosion-factor\",fontsize=14)\n",
    "plt.yscale('log')\n",
    "ax.plot(E_array,Ex_A,label='Explosion-factor')\n",
    "plt.legend()"
   ]
  },
  {
   "cell_type": "code",
   "execution_count": 25,
   "metadata": {},
   "outputs": [
    {
     "data": {
      "text/plain": [
       "Text(8.35, 0.0009, '$E_3$')"
      ]
     },
     "execution_count": 25,
     "metadata": {},
     "output_type": "execute_result"
    }
   ],
   "source": [
    "ax.text(1.49,47,r'$E_0$',fontsize=12,rotation='vertical',color='b')\n",
    "ax.text(4.4,2.38,r'$E_1$',fontsize=12,rotation='vertical',color='b')\n",
    "ax.text(6.7,.018,r'$E_2$',fontsize=12,rotation='vertical',color='b')\n",
    "ax.text(8.35,0.0009,r'$E_3$',fontsize=12,rotation='vertical',color='b')"
   ]
  },
  {
   "cell_type": "code",
   "execution_count": 26,
   "metadata": {},
   "outputs": [],
   "source": [
    "plt.savefig(\"Explosion-Factor_vs_E_Morse\",dpi=650)"
   ]
  },
  {
   "cell_type": "code",
   "execution_count": null,
   "metadata": {},
   "outputs": [],
   "source": [
    "EF.Analatic_mult(R, np.arange(len(Eigen_E)), D_e, a, r_e, ax)\n",
    "ax.plot(R, Morse_V(R))"
   ]
  },
  {
   "cell_type": "code",
   "execution_count": 21,
   "metadata": {},
   "outputs": [
    {
     "data": {
      "text/plain": [
       "<matplotlib.legend.Legend at 0x7f7bb9b78c40>"
      ]
     },
     "execution_count": 21,
     "metadata": {},
     "output_type": "execute_result"
    }
   ],
   "source": [
    "R=np.linspace(0,8,1000)\n",
    "fig=plt.figure(figsize=(10,8))\n",
    "ax=plt.axes(ylim=(-.1,10))\n",
    "plt.figtext(.5,.9,'Quantum Morse Potential', fontsize=22, ha='center')\n",
    "plt.xticks(fontsize=14)\n",
    "plt.yticks(fontsize=14)\n",
    "plt.xlabel(\"R(in m)\",fontsize=14)\n",
    "plt.ylabel(\"Potential,V(in J)\",fontsize=14)\n",
    "plt.yscale('linear')\n",
    "ax.plot(R,Morse_V(R),color='lime',label=r'$V_{(x)}=10(1-e^{-0.8(r-1)})^2$')\n",
    "plt.legend(prop={'size':18})"
   ]
  },
  {
   "cell_type": "code",
   "execution_count": 22,
   "metadata": {},
   "outputs": [],
   "source": [
    "plt.savefig(\"Quantum_Harmonic_potential.png\",dpi=650)"
   ]
  },
  {
   "cell_type": "code",
   "execution_count": null,
   "metadata": {},
   "outputs": [],
   "source": [
    "V=D_e*(1-2.718**(-a*(r-r_e)))**2"
   ]
  },
  {
   "cell_type": "code",
   "execution_count": 16,
   "metadata": {},
   "outputs": [
    {
     "data": {
      "text/plain": [
       "10"
      ]
     },
     "execution_count": 16,
     "metadata": {},
     "output_type": "execute_result"
    }
   ],
   "source": [
    "D_e"
   ]
  },
  {
   "cell_type": "code",
   "execution_count": 17,
   "metadata": {},
   "outputs": [
    {
     "data": {
      "text/plain": [
       "0.8"
      ]
     },
     "execution_count": 17,
     "metadata": {},
     "output_type": "execute_result"
    }
   ],
   "source": [
    "a"
   ]
  },
  {
   "cell_type": "code",
   "execution_count": 18,
   "metadata": {},
   "outputs": [
    {
     "data": {
      "text/plain": [
       "1"
      ]
     },
     "execution_count": 18,
     "metadata": {},
     "output_type": "execute_result"
    }
   ],
   "source": [
    "r_e"
   ]
  },
  {
   "cell_type": "code",
   "execution_count": null,
   "metadata": {},
   "outputs": [],
   "source": []
  }
 ],
 "metadata": {
  "kernelspec": {
   "display_name": "Python 3",
   "language": "python",
   "name": "python3"
  },
  "language_info": {
   "codemirror_mode": {
    "name": "ipython",
    "version": 3
   },
   "file_extension": ".py",
   "mimetype": "text/x-python",
   "name": "python",
   "nbconvert_exporter": "python",
   "pygments_lexer": "ipython3",
   "version": "3.8.6"
  }
 },
 "nbformat": 4,
 "nbformat_minor": 4
}
